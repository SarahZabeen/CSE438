{
 "cells": [
  {
   "cell_type": "code",
   "execution_count": 1,
   "metadata": {},
   "outputs": [],
   "source": [
    "import numpy as np\n",
    "import pandas as pd\n",
    "from sklearn.metrics import confusion_matrix\n",
    "from sklearn.model_selection import train_test_split\n",
    "from sklearn.tree import DecisionTreeClassifier\n",
    "from sklearn.metrics import accuracy_score\n",
    "from sklearn.metrics import classification_report\n",
    "import matplotlib.pyplot as plt\n",
    "import seaborn as sns\n",
    "%matplotlib inline"
   ]
  },
  {
   "cell_type": "code",
   "execution_count": 2,
   "metadata": {},
   "outputs": [],
   "source": [
    "file_name =  \"Dataset.xlsx\"\n",
    "sheet =  'Heart1'\n",
    "\n",
    "df = pd.read_excel(io=file_name, sheet_name=sheet)\n",
    "df=df.head(100) "
   ]
  },
  {
   "cell_type": "code",
   "execution_count": 3,
   "metadata": {},
   "outputs": [
    {
     "data": {
      "text/html": [
       "<div>\n",
       "<style scoped>\n",
       "    .dataframe tbody tr th:only-of-type {\n",
       "        vertical-align: middle;\n",
       "    }\n",
       "\n",
       "    .dataframe tbody tr th {\n",
       "        vertical-align: top;\n",
       "    }\n",
       "\n",
       "    .dataframe thead th {\n",
       "        text-align: right;\n",
       "    }\n",
       "</style>\n",
       "<table border=\"1\" class=\"dataframe\">\n",
       "  <thead>\n",
       "    <tr style=\"text-align: right;\">\n",
       "      <th></th>\n",
       "      <th>Sex</th>\n",
       "      <th>ChestPainType</th>\n",
       "      <th>ExerciseAngina</th>\n",
       "      <th>Oldpeak</th>\n",
       "      <th>ST_Slope</th>\n",
       "      <th>HeartDisease</th>\n",
       "    </tr>\n",
       "  </thead>\n",
       "  <tbody>\n",
       "    <tr>\n",
       "      <th>0</th>\n",
       "      <td>M</td>\n",
       "      <td>ATA</td>\n",
       "      <td>N</td>\n",
       "      <td>0.0</td>\n",
       "      <td>Up</td>\n",
       "      <td>0</td>\n",
       "    </tr>\n",
       "    <tr>\n",
       "      <th>1</th>\n",
       "      <td>F</td>\n",
       "      <td>NAP</td>\n",
       "      <td>N</td>\n",
       "      <td>1.0</td>\n",
       "      <td>Flat</td>\n",
       "      <td>1</td>\n",
       "    </tr>\n",
       "    <tr>\n",
       "      <th>2</th>\n",
       "      <td>M</td>\n",
       "      <td>ATA</td>\n",
       "      <td>N</td>\n",
       "      <td>0.0</td>\n",
       "      <td>Up</td>\n",
       "      <td>0</td>\n",
       "    </tr>\n",
       "    <tr>\n",
       "      <th>3</th>\n",
       "      <td>F</td>\n",
       "      <td>ASY</td>\n",
       "      <td>Y</td>\n",
       "      <td>1.5</td>\n",
       "      <td>Flat</td>\n",
       "      <td>1</td>\n",
       "    </tr>\n",
       "    <tr>\n",
       "      <th>4</th>\n",
       "      <td>M</td>\n",
       "      <td>NAP</td>\n",
       "      <td>N</td>\n",
       "      <td>0.0</td>\n",
       "      <td>Up</td>\n",
       "      <td>0</td>\n",
       "    </tr>\n",
       "    <tr>\n",
       "      <th>...</th>\n",
       "      <td>...</td>\n",
       "      <td>...</td>\n",
       "      <td>...</td>\n",
       "      <td>...</td>\n",
       "      <td>...</td>\n",
       "      <td>...</td>\n",
       "    </tr>\n",
       "    <tr>\n",
       "      <th>95</th>\n",
       "      <td>M</td>\n",
       "      <td>ASY</td>\n",
       "      <td>Y</td>\n",
       "      <td>2.0</td>\n",
       "      <td>Flat</td>\n",
       "      <td>1</td>\n",
       "    </tr>\n",
       "    <tr>\n",
       "      <th>96</th>\n",
       "      <td>M</td>\n",
       "      <td>ATA</td>\n",
       "      <td>N</td>\n",
       "      <td>0.0</td>\n",
       "      <td>Up</td>\n",
       "      <td>0</td>\n",
       "    </tr>\n",
       "    <tr>\n",
       "      <th>97</th>\n",
       "      <td>M</td>\n",
       "      <td>NAP</td>\n",
       "      <td>N</td>\n",
       "      <td>0.0</td>\n",
       "      <td>Up</td>\n",
       "      <td>0</td>\n",
       "    </tr>\n",
       "    <tr>\n",
       "      <th>98</th>\n",
       "      <td>M</td>\n",
       "      <td>ASY</td>\n",
       "      <td>N</td>\n",
       "      <td>0.0</td>\n",
       "      <td>Up</td>\n",
       "      <td>0</td>\n",
       "    </tr>\n",
       "    <tr>\n",
       "      <th>99</th>\n",
       "      <td>M</td>\n",
       "      <td>ATA</td>\n",
       "      <td>N</td>\n",
       "      <td>0.0</td>\n",
       "      <td>Up</td>\n",
       "      <td>0</td>\n",
       "    </tr>\n",
       "  </tbody>\n",
       "</table>\n",
       "<p>100 rows × 6 columns</p>\n",
       "</div>"
      ],
      "text/plain": [
       "   Sex ChestPainType ExerciseAngina  Oldpeak ST_Slope  HeartDisease\n",
       "0    M           ATA              N      0.0       Up             0\n",
       "1    F           NAP              N      1.0     Flat             1\n",
       "2    M           ATA              N      0.0       Up             0\n",
       "3    F           ASY              Y      1.5     Flat             1\n",
       "4    M           NAP              N      0.0       Up             0\n",
       "..  ..           ...            ...      ...      ...           ...\n",
       "95   M           ASY              Y      2.0     Flat             1\n",
       "96   M           ATA              N      0.0       Up             0\n",
       "97   M           NAP              N      0.0       Up             0\n",
       "98   M           ASY              N      0.0       Up             0\n",
       "99   M           ATA              N      0.0       Up             0\n",
       "\n",
       "[100 rows x 6 columns]"
      ]
     },
     "execution_count": 3,
     "metadata": {},
     "output_type": "execute_result"
    }
   ],
   "source": [
    "df=df[['Sex', 'ChestPainType', 'ExerciseAngina', 'Oldpeak', 'ST_Slope','HeartDisease']]\n",
    "df"
   ]
  },
  {
   "cell_type": "code",
   "execution_count": 4,
   "metadata": {},
   "outputs": [
    {
     "data": {
      "text/plain": [
       "Sex               False\n",
       "ChestPainType     False\n",
       "ExerciseAngina    False\n",
       "Oldpeak           False\n",
       "ST_Slope          False\n",
       "HeartDisease      False\n",
       "dtype: bool"
      ]
     },
     "execution_count": 4,
     "metadata": {},
     "output_type": "execute_result"
    }
   ],
   "source": [
    "df.isnull().any()"
   ]
  },
  {
   "cell_type": "code",
   "execution_count": 5,
   "metadata": {},
   "outputs": [],
   "source": [
    "for i in df['Sex']:\n",
    "    if i == 'M':\n",
    "        df['Sex'] = df['Sex'].replace(['M'],'0')\n",
    "    elif i == 'F':\n",
    "        df['Sex'] = df['Sex'].replace(['F'],'1')\n",
    "        \n",
    "for i in df['ExerciseAngina']:\n",
    "    if i == 'N':\n",
    "        df['ExerciseAngina'] = df['ExerciseAngina'].replace(['N'],'0')\n",
    "    elif i == 'Y':\n",
    "        df['ExerciseAngina'] = df['ExerciseAngina'].replace(['Y'],'1')\n",
    "        \n",
    "        \n",
    "        \n",
    "for i in df['ST_Slope']:\n",
    "    if i == 'Up':\n",
    "        df['ST_Slope'] = df['ST_Slope'].replace(['Up'],'0')\n",
    "    elif i == 'Flat':\n",
    "        df['ST_Slope'] = df['ST_Slope'].replace(['Flat'],'1')\n",
    "        \n",
    "        \n",
    "for i in df['ChestPainType']:\n",
    "    if i == 'ATA':\n",
    "        df['ChestPainType'] = df['ChestPainType'].replace(['ATA'],'0')\n",
    "    elif i == 'ASY':\n",
    "        df['ChestPainType'] = df['ChestPainType'].replace(['ASY'],'1')\n",
    "    elif i == 'NAP':\n",
    "        df['ChestPainType'] = df['ChestPainType'].replace(['NAP'],'2')\n",
    "    elif i == 'TA':\n",
    "        df['ChestPainType'] = df['ChestPainType'].replace(['TA'],'3')"
   ]
  },
  {
   "cell_type": "code",
   "execution_count": 6,
   "metadata": {},
   "outputs": [],
   "source": [
    "target = df['HeartDisease']\n",
    "df = df.drop('HeartDisease', axis =1)\n",
    "\n",
    "X = df; Y = target\n",
    "\n",
    "X_train, X_test, y_train, y_test = train_test_split(X, Y, test_size = 0.3, random_state = 100)   "
   ]
  },
  {
   "cell_type": "code",
   "execution_count": 7,
   "metadata": {},
   "outputs": [
    {
     "data": {
      "text/plain": [
       "DecisionTreeClassifier(criterion='entropy', max_depth=4, min_samples_leaf=7,\n",
       "                       random_state=100)"
      ]
     },
     "execution_count": 7,
     "metadata": {},
     "output_type": "execute_result"
    }
   ],
   "source": [
    "clsf_ent = DecisionTreeClassifier(criterion = \"entropy\",random_state = 100,max_depth=4, min_samples_leaf=7)\n",
    "  \n",
    "clsf_ent.fit(X_train, y_train)"
   ]
  },
  {
   "cell_type": "code",
   "execution_count": 8,
   "metadata": {},
   "outputs": [
    {
     "name": "stdout",
     "output_type": "stream",
     "text": [
      "Predicted values:\n",
      "[0 0 1 0 0 0 1 1 0 1 1 1 0 0 0 0 1 0 0 1 0 0 1 0 0 0 1 0 1 0]\n",
      "\n",
      "----------------------------------------------------------------\n",
      "\n",
      "Accuracy :  90.0 %\n",
      "Report :                precision    recall  f1-score   support\n",
      "\n",
      "           0       0.95      0.90      0.92        20\n",
      "           1       0.82      0.90      0.86        10\n",
      "\n",
      "    accuracy                           0.90        30\n",
      "   macro avg       0.88      0.90      0.89        30\n",
      "weighted avg       0.90      0.90      0.90        30\n",
      "\n"
     ]
    }
   ],
   "source": [
    "y_pred = clsf_ent.predict(X_test)\n",
    "print(\"Predicted values:\")\n",
    "print(y_pred)\n",
    "\n",
    "print()\n",
    "print('----------------------------------------------------------------')\n",
    "print()\n",
    "\n",
    "print (\"Accuracy : \",accuracy_score(y_test,y_pred)*100,'%')\n",
    "      \n",
    "print(\"Report : \",classification_report(y_test, y_pred))"
   ]
  },
  {
   "cell_type": "code",
   "execution_count": 9,
   "metadata": {},
   "outputs": [
    {
     "name": "stdout",
     "output_type": "stream",
     "text": [
      "0.8931734583778568\n",
      "1.626671858909222\n",
      "0.8554508105601307\n",
      "0.9895875212220555\n",
      "1.6687385471965301\n"
     ]
    }
   ],
   "source": [
    "## Check Entropy\n",
    "\n",
    "from scipy.stats import entropy\n",
    "E1 = entropy(df.groupby(['Sex']).size(), base=2)\n",
    "print(E1)\n",
    "E2 = entropy(df.groupby(['ChestPainType']).size(), base=2)\n",
    "print(E2)\n",
    "E3 = entropy(df.groupby(['ExerciseAngina']).size(), base=2)\n",
    "print(E3)\n",
    "E4 = entropy(df.groupby(['ST_Slope']).size(), base=2)\n",
    "print(E4)\n",
    "E5 = entropy(df.groupby(['Oldpeak']).size(), base=2)\n",
    "print(E5)"
   ]
  }
 ],
 "metadata": {
  "kernelspec": {
   "display_name": "gpu_tf",
   "language": "python",
   "name": "gpu_tf"
  },
  "language_info": {
   "codemirror_mode": {
    "name": "ipython",
    "version": 3
   },
   "file_extension": ".py",
   "mimetype": "text/x-python",
   "name": "python",
   "nbconvert_exporter": "python",
   "pygments_lexer": "ipython3",
   "version": "3.8.11"
  }
 },
 "nbformat": 4,
 "nbformat_minor": 2
}
